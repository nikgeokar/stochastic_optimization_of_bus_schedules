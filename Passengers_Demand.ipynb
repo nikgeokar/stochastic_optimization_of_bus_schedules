{
 "cells": [
  {
   "cell_type": "code",
   "execution_count": 28,
   "id": "f9da427f-4d36-4dfd-84eb-d658cf748192",
   "metadata": {},
   "outputs": [],
   "source": [
    "import json\n",
    "import pandas as pd\n",
    "import osmnx as ox\n",
    "import networkx as nx\n",
    "import os\n",
    "import seaborn as sns\n",
    "import matplotlib.pyplot as plt\n",
    "from tqdm import tqdm\n",
    "from os.path import join\n",
    "from datetime import timedelta\n",
    "from itertools import product\n",
    "import random\n",
    "\n",
    "\n",
    "import numpy as np\n",
    "import pandas as pd\n",
    "from datetime import datetime, timedelta\n",
    "from scipy.spatial import cKDTree\n",
    "from scipy.special import factorial\n"
   ]
  },
  {
   "cell_type": "code",
   "execution_count": 29,
   "id": "deb64dcd-b703-4750-8c5e-806abf0b9ea6",
   "metadata": {},
   "outputs": [],
   "source": [
    "input_path = join(\"io\", \"input\")\n",
    "output_path = join(\"io\", \"output\")\n",
    "experiments_path = join(\"io\", \"experiments\")\n",
    "plots_path = join(experiments_path, \"plots\")"
   ]
  },
  {
   "cell_type": "code",
   "execution_count": 30,
   "id": "7f84d9e0-488b-4509-8f59-e64fb0063374",
   "metadata": {},
   "outputs": [],
   "source": [
    "def generate_passenger_demand(stops_df, poi_df, output_path, date=\"2025-01-09\"):\n",
    "    \"\"\"\n",
    "    Generates a simulated probability distribution for passenger demand at each stop\n",
    "    for every minute between 07:00 AM and 11:45 PM. The length of the distribution varies,\n",
    "    with most distributions being 10-20 long, and only extreme cases reaching 50.\n",
    "\n",
    "    Parameters:\n",
    "        stops_df (pd.DataFrame): DataFrame with bus stop locations [id, latitude, longitude]\n",
    "        poi_df (pd.DataFrame): DataFrame with POI locations [poi_name, latitude, longitude]\n",
    "        date (str): Date for simulation (YYYY-MM-DD format)\n",
    "\n",
    "    Returns:\n",
    "        pd.DataFrame: Columns ['stop_id', 'timestamp', 'passenger_demand_distribution']\n",
    "    \"\"\"\n",
    "\n",
    "    # Define operational time range\n",
    "    start_time = datetime.strptime(date + \" 07:00:00\", \"%Y-%m-%d %H:%M:%S\")\n",
    "    minutes_per_day = 1005  # From 07:00 to 23:45\n",
    "    time_series = [start_time + timedelta(minutes=i) for i in range(minutes_per_day)]\n",
    "    \n",
    "    # Construct KDTree for POI proximity calculations\n",
    "    poi_coords = np.array(poi_df[['latitude', 'longitude']])\n",
    "    stop_coords = np.array(stops_df[['latitude', 'longitude']])\n",
    "    poi_tree = cKDTree(poi_coords)\n",
    "    \n",
    "    # Compute POI influence score for each stop\n",
    "    distances, _ = poi_tree.query(stop_coords, k=1)  # Find nearest POI for each stop\n",
    "    poi_influence = np.exp(-distances / 2)  # Exponential decay function for influence\n",
    "    \n",
    "    # Rush hour multipliers\n",
    "    def rush_hour_factor(t):\n",
    "        if 8 <= t.hour < 9 or 16 <= t.hour < 18 or 20 <= t.hour < 21:\n",
    "            return 2.5  # Peak times\n",
    "        elif 7 <= t.hour < 10 or 15 <= t.hour < 19:\n",
    "            return 1.5  # Mild rush hour\n",
    "        else:\n",
    "            return 1.0  # Normal hours\n",
    "\n",
    "    # Create demand probability distributions\n",
    "    data = []\n",
    "    for i, stop in stops_df.iterrows():\n",
    "        stop_id = stop[\"id\"]\n",
    "        stop_base_demand = np.random.uniform(0.2, 1.0) * poi_influence[i]  # Base demand per stop\n",
    "        \n",
    "        for t in time_series:\n",
    "            rush_factor = rush_hour_factor(t)\n",
    "            expected_passengers = np.random.poisson(lam=5 * stop_base_demand * rush_factor)\n",
    "            expected_passengers = max(1, min(expected_passengers, 50))  # Ensure at least 1 expected passenger\n",
    "            \n",
    "            # Determine the max passenger count dynamically (most values between 10-20)\n",
    "            max_passengers = min(50, max(5, int(np.random.normal(15, 5) * rush_factor * poi_influence[i])))\n",
    "            \n",
    "            # Generate probability distribution only up to `max_passengers`\n",
    "            counts = np.arange(0, max_passengers + 1)\n",
    "            lambda_param = expected_passengers / 3  # Scale lambda\n",
    "            probs = np.exp(-lambda_param) * (lambda_param ** counts) / factorial(counts)\n",
    "            \n",
    "            # Ensure no absolute zero demand\n",
    "            probs += 1e-6  # Small constant to avoid zeros\n",
    "            probs /= probs.sum()  # Normalize to sum to 1\n",
    "            \n",
    "            # Store results\n",
    "            data.append([stop_id, t, probs.tolist()])\n",
    "    \n",
    "    # Create DataFrame\n",
    "    demand_df = pd.DataFrame(data, columns=[\"stop_id\", \"timestamp\", \"passenger_demand_distribution\"])\n",
    "    demand_df.to_csv(join(output_path, \"interm_passenger_demand.csv\"), sep=',', encoding='utf-8', index=False)\n",
    "    return demand_df\n"
   ]
  },
  {
   "cell_type": "code",
   "execution_count": 31,
   "id": "002246c9-45f1-44e0-a6f1-884c14020bbd",
   "metadata": {},
   "outputs": [],
   "source": [
    "def plot_random_distribution(demand_df):\n",
    "    \"\"\"\n",
    "    Selects a random row from the demand DataFrame and plots the probability distribution.\n",
    "    \n",
    "    Parameters:\n",
    "        demand_df (pd.DataFrame): DataFrame containing ['stop_id', 'timestamp', 'passenger_demand_distribution']\n",
    "    \"\"\"\n",
    "    random_number = random.randint(1, 100)\n",
    "    # Select a random row\n",
    "    random_row = demand_df.sample(n=1).iloc[0]\n",
    "    \n",
    "    # Extract data\n",
    "    stop_id = random_row[\"stop_id\"]\n",
    "    timestamp = random_row[\"timestamp\"]\n",
    "    distribution = random_row[\"passenger_demand_distribution\"]\n",
    "    \n",
    "    # Plot the distribution\n",
    "    plt.figure(figsize=(10, 5))\n",
    "    plt.bar(range(len(distribution)), distribution, color='blue', alpha=0.7)\n",
    "    plt.xlabel(\"Passenger Count\")\n",
    "    plt.ylabel(\"Probability\")\n",
    "    plt.title(f\"Passenger Demand Distribution\\nStop: {stop_id} | Time: {timestamp}\")\n",
    "    plt.grid(axis=\"y\", linestyle=\"--\", alpha=0.7)\n",
    "    plt.savefig(plots_path + \"/passenger_demand_distribution_\" + str(stop_id) + \"_\" + str(random_number) + \".pdf\")\n",
    "    plt.show()"
   ]
  },
  {
   "cell_type": "code",
   "execution_count": 32,
   "id": "af75e365-63c5-48bd-9e56-bdb55072187a",
   "metadata": {},
   "outputs": [],
   "source": [
    "stops_df = pd.read_csv(join(input_path, \"base_stops.csv\"), encoding='utf-8', sep=';')\n",
    "poi_df = pd.read_csv(join(input_path, \"base_point_of_interest.csv\"), encoding='utf-8', sep=',')\n",
    "demand_df = generate_passenger_demand(stops_df, poi_df, output_path)"
   ]
  },
  {
   "cell_type": "code",
   "execution_count": 33,
   "id": "7d129322-9f3e-4b83-9e32-cef94f17e46d",
   "metadata": {},
   "outputs": [
    {
     "data": {
      "image/png": "[encoded data removed]",
      "text/plain": [
       "<Figure size 1000x500 with 1 Axes>"
      ]
     },
     "metadata": {},
     "output_type": "display_data"
    }
   ],
   "source": [
    "plot_random_distribution(demand_df)"
   ]
  }
 ],
 "metadata": {
  "kernelspec": {
   "display_name": "Python (bus_timetable_opt)",
   "language": "python",
   "name": "bus_timetable_opt"
  },
  "language_info": {
   "codemirror_mode": {
    "name": "ipython",
    "version": 3
   },
   "file_extension": ".py",
   "mimetype": "text/x-python",
   "name": "python",
   "nbconvert_exporter": "python",
   "pygments_lexer": "ipython3",
   "version": "3.9.20"
  }
 },
 "nbformat": 4,
 "nbformat_minor": 5
}
