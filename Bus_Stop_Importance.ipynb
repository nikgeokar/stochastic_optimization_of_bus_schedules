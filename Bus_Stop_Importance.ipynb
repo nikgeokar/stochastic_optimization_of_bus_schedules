{
 "cells": [
  {
   "cell_type": "code",
   "execution_count": 18,
   "id": "75d6783a-0b85-4be8-b458-46eea2d76cdf",
   "metadata": {},
   "outputs": [],
   "source": [
    "import json\n",
    "import pandas as pd\n",
    "import osmnx as ox\n",
    "import networkx as nx\n",
    "import os\n",
    "import seaborn as sns\n",
    "import matplotlib.pyplot as plt\n",
    "from tqdm import tqdm\n",
    "from os.path import join\n",
    "from datetime import timedelta\n",
    "from itertools import product\n",
    "import random\n",
    "\n",
    "\n",
    "import numpy as np\n",
    "import pandas as pd\n",
    "from datetime import datetime, timedelta\n",
    "from scipy.spatial import cKDTree\n",
    "from scipy.special import factorial\n",
    "import pickle"
   ]
  },
  {
   "cell_type": "code",
   "execution_count": 19,
   "id": "d76304d1-01d3-40fa-93b9-e851e166d3d3",
   "metadata": {},
   "outputs": [],
   "source": [
    "input_path = join(\"io\", \"input\")\n",
    "output_path = join(\"io\", \"output\")\n",
    "experiments_path = join(\"io\", \"experiments\")\n",
    "plots_path = join(experiments_path, \"plots\")"
   ]
  },
  {
   "cell_type": "code",
   "execution_count": 20,
   "id": "ef8788c9-52f7-491d-aa55-89b360e49569",
   "metadata": {},
   "outputs": [],
   "source": [
    "def compute_stop_weights(stops_df, poi_df, min_weight=1.0, max_weight=1.3):\n",
    "    \"\"\"\n",
    "    Computes proximity-based weights for bus stops based on distance to nearest POI.\n",
    "    \n",
    "    Args:\n",
    "        stops_df (pd.DataFrame): Contains columns ['id', 'latitude', 'longitude'].\n",
    "        poi_df (pd.DataFrame): Contains columns ['poi_name', 'latitude', 'longitude'].\n",
    "        min_weight (float): Minimum weight for farthest stops.\n",
    "        max_weight (float): Maximum weight for stops closest to POIs.\n",
    "    \n",
    "    Returns:\n",
    "        dict: {stop_id: weight}\n",
    "    \"\"\"\n",
    "    # Build KDTree for fast distance lookup\n",
    "    poi_coords = np.radians(poi_df[['latitude', 'longitude']].values)\n",
    "    stop_coords = np.radians(stops_df[['latitude', 'longitude']].values)\n",
    "    tree = cKDTree(poi_coords)\n",
    "\n",
    "    # Haversine distance calculation\n",
    "    def haversine_dist(r_latlon1, r_latlon2):\n",
    "        R = 6371  # Earth radius in km\n",
    "        dlat = r_latlon2[:, 0] - r_latlon1[:, 0]\n",
    "        dlon = r_latlon2[:, 1] - r_latlon1[:, 1]\n",
    "        a = np.sin(dlat / 2)**2 + np.cos(r_latlon1[:, 0]) * np.cos(r_latlon2[:, 0]) * np.sin(dlon / 2)**2\n",
    "        return 2 * R * np.arcsin(np.sqrt(a))\n",
    "\n",
    "    # Compute nearest POI distances\n",
    "    distances = []\n",
    "    for stop in stop_coords:\n",
    "        dists = haversine_dist(np.array([stop]*len(poi_coords)), poi_coords)\n",
    "        distances.append(np.min(dists))\n",
    "\n",
    "    distances = np.array(distances)\n",
    "    \n",
    "    # Normalize distances and scale\n",
    "    norm_dist = (distances - distances.min()) / (distances.max() - distances.min() + 1e-8)\n",
    "    weights = max_weight - norm_dist * (max_weight - min_weight)\n",
    "\n",
    "    # Use attribute access for itertuples\n",
    "    stop_factor = {str(row.id): round(float(w), 2) for row, w in zip(stops_df.itertuples(index=False), weights)}\n",
    "    \n",
    "    return stop_factor\n"
   ]
  },
  {
   "cell_type": "code",
   "execution_count": 21,
   "id": "f2245554-e888-4352-beb9-920a78768c63",
   "metadata": {},
   "outputs": [],
   "source": [
    "def save_dict_to_file(dictionary, filepath):\n",
    "    \"\"\"\n",
    "    Save a dictionary to a file using pickle.\n",
    "    \"\"\"\n",
    "    with open(filepath, 'wb') as file:\n",
    "        pickle.dump(dictionary, file)"
   ]
  },
  {
   "cell_type": "code",
   "execution_count": 22,
   "id": "b3612965-6372-46c6-aebe-e2423992bd09",
   "metadata": {},
   "outputs": [],
   "source": [
    "stops_df = pd.read_csv(join(input_path, \"base_stops.csv\"), encoding='utf-8', sep=';')\n",
    "poi_df = pd.read_csv(join(input_path, \"base_point_of_interest.csv\"), encoding='utf-8', sep=',')\n",
    "stop_factor_dict = compute_stop_weights(stops_df, poi_df)\n",
    "save_dict_to_file(stop_factor_dict, join(output_path, \"interm_stop_factor\"))"
   ]
  },
  {
   "cell_type": "code",
   "execution_count": null,
   "id": "1cc421d5-0b2b-49e7-ae39-db5178284e1e",
   "metadata": {},
   "outputs": [],
   "source": []
  }
 ],
 "metadata": {
  "kernelspec": {
   "display_name": "Python (bus_timetable_opt)",
   "language": "python",
   "name": "bus_timetable_opt"
  },
  "language_info": {
   "codemirror_mode": {
    "name": "ipython",
    "version": 3
   },
   "file_extension": ".py",
   "mimetype": "text/x-python",
   "name": "python",
   "nbconvert_exporter": "python",
   "pygments_lexer": "ipython3",
   "version": "3.9.20"
  }
 },
 "nbformat": 4,
 "nbformat_minor": 5
}
